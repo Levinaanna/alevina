{
 "cells": [
  {
   "cell_type": "code",
   "execution_count": 1,
   "metadata": {},
   "outputs": [],
   "source": [
    "import os"
   ]
  },
  {
   "cell_type": "code",
   "execution_count": 2,
   "metadata": {},
   "outputs": [
    {
     "name": "stdout",
     "output_type": "stream",
     "text": [
      "/Users/annalevina/Desktop/alevina/alevina/poems\n"
     ]
    }
   ],
   "source": [
    "print(os.getcwd())"
   ]
  },
  {
   "cell_type": "code",
   "execution_count": 3,
   "metadata": {},
   "outputs": [
    {
     "name": "stdout",
     "output_type": "stream",
     "text": [
      "сказки\n",
      "шредингер.txt\n",
      "котики\n",
      "Untitled.ipynb\n",
      "боль.txt\n",
      "ворон.txt\n",
      ".ipynb_checkpoints\n",
      "кладь.txt\n",
      "деды.txt\n",
      "ночь.txt\n"
     ]
    }
   ],
   "source": [
    "for file in os.listdir('.'): \n",
    "    print(file)"
   ]
  },
  {
   "cell_type": "code",
   "execution_count": 4,
   "metadata": {},
   "outputs": [
    {
     "name": "stdout",
     "output_type": "stream",
     "text": [
      "/Users/annalevina/Desktop/alevina/alevina/poems/шредингер.txt\n",
      "/Users/annalevina/Desktop/alevina/alevina/poems/Untitled.ipynb\n",
      "/Users/annalevina/Desktop/alevina/alevina/poems/боль.txt\n",
      "/Users/annalevina/Desktop/alevina/alevina/poems/ворон.txt\n",
      "/Users/annalevina/Desktop/alevina/alevina/poems/кладь.txt\n",
      "/Users/annalevina/Desktop/alevina/alevina/poems/деды.txt\n",
      "/Users/annalevina/Desktop/alevina/alevina/poems/ночь.txt\n",
      "/Users/annalevina/Desktop/alevina/alevina/poems/сказки/король.txt\n",
      "/Users/annalevina/Desktop/alevina/alevina/poems/сказки/крестная.txt\n",
      "/Users/annalevina/Desktop/alevina/alevina/poems/сказки/гримм.txt\n",
      "/Users/annalevina/Desktop/alevina/alevina/poems/сказки/королевич.txt\n",
      "/Users/annalevina/Desktop/alevina/alevina/poems/сказки/яга.txt\n",
      "/Users/annalevina/Desktop/alevina/alevina/poems/котики/кот.txt\n",
      "/Users/annalevina/Desktop/alevina/alevina/poems/котики/пушок.txt\n",
      "/Users/annalevina/Desktop/alevina/alevina/poems/котики/лео.txt\n",
      "/Users/annalevina/Desktop/alevina/alevina/poems/.ipynb_checkpoints/Untitled-checkpoint.ipynb\n"
     ]
    }
   ],
   "source": [
    "for root, dirs, files in os.walk('/Users/annalevina/Desktop/alevina/alevina/poems'):\n",
    "    for name in files:\n",
    "        fullname = os.path.join(root, name)\n",
    "        print(fullname)"
   ]
  },
  {
   "cell_type": "code",
   "execution_count": 11,
   "metadata": {},
   "outputs": [
    {
     "name": "stdout",
     "output_type": "stream",
     "text": [
      "False\n"
     ]
    }
   ],
   "source": [
    "print(os.path.isfile('гримм.txt'))"
   ]
  },
  {
   "cell_type": "code",
   "execution_count": 16,
   "metadata": {},
   "outputs": [
    {
     "name": "stdout",
     "output_type": "stream",
     "text": [
      "/Users/annalevina/Desktop/alevina/alevina/poems\n"
     ]
    }
   ],
   "source": [
    "cd '/Users/annalevina/Desktop/alevina/alevina/poems'"
   ]
  },
  {
   "cell_type": "code",
   "execution_count": 17,
   "metadata": {},
   "outputs": [
    {
     "name": "stdout",
     "output_type": "stream",
     "text": [
      "False\n"
     ]
    }
   ],
   "source": [
    "print(os.path.isfile('гримм.txt'))"
   ]
  },
  {
   "cell_type": "code",
   "execution_count": 24,
   "metadata": {},
   "outputs": [
    {
     "name": "stdout",
     "output_type": "stream",
     "text": [
      "🐱 а боль у вас какого рода \n",
      "🐱 спросил дежурный врач а я \n",
      "🐱 как на духу она ответил \n",
      "🐱 моя"
     ]
    }
   ],
   "source": [
    "with open('боль.txt', 'r', encoding='utf-8') as f:\n",
    "    for line in f:\n",
    "        print(\"🐱\", line, sep=' ', end='')"
   ]
  },
  {
   "cell_type": "code",
   "execution_count": 27,
   "metadata": {},
   "outputs": [
    {
     "name": "stdout",
     "output_type": "stream",
     "text": [
      "/Users/annalevina/Desktop/alevina/alevina/poems/сказки\n"
     ]
    }
   ],
   "source": [
    "cd /Users/annalevina/Desktop/alevina/alevina/poems/сказки"
   ]
  },
  {
   "cell_type": "code",
   "execution_count": 28,
   "metadata": {},
   "outputs": [
    {
     "name": "stdout",
     "output_type": "stream",
     "text": [
      "король.txt\n",
      "крестная.txt\n",
      "гримм.txt\n",
      "королевич.txt\n",
      "яга.txt\n"
     ]
    }
   ],
   "source": [
    "for file in os.listdir('.'): \n",
    "    print(file)"
   ]
  },
  {
   "cell_type": "code",
   "execution_count": 31,
   "metadata": {},
   "outputs": [],
   "source": [
    "f = open('гримм.txt', 'r', encoding='utf-8')"
   ]
  },
  {
   "cell_type": "code",
   "execution_count": 32,
   "metadata": {},
   "outputs": [
    {
     "name": "stdout",
     "output_type": "stream",
     "text": [
      "идут по лесу братья гриммы \n",
      "и вырубают топором \n",
      "всех тех кто был уже написан \n",
      "перром \n"
     ]
    }
   ],
   "source": [
    "poem = f.read()\n",
    "print(poem)"
   ]
  },
  {
   "cell_type": "code",
   "execution_count": 33,
   "metadata": {},
   "outputs": [],
   "source": [
    "f.close()"
   ]
  },
  {
   "cell_type": "code",
   "execution_count": 34,
   "metadata": {},
   "outputs": [
    {
     "name": "stdout",
     "output_type": "stream",
     "text": [
      "/Users/annalevina/Desktop/alevina/alevina/poems\n"
     ]
    }
   ],
   "source": [
    "cd /Users/annalevina/Desktop/alevina/alevina/poems"
   ]
  },
  {
   "cell_type": "code",
   "execution_count": 35,
   "metadata": {},
   "outputs": [
    {
     "name": "stdout",
     "output_type": "stream",
     "text": [
      "сказки\n",
      "шредингер.txt\n",
      "котики\n",
      ".DS_Store\n",
      "Untitled.ipynb\n",
      "боль.txt\n",
      "ворон.txt\n",
      ".ipynb_checkpoints\n",
      "кладь.txt\n",
      "деды.txt\n",
      "ночь.txt\n"
     ]
    }
   ],
   "source": [
    "for file in os.listdir('.'): \n",
    "    print(file)"
   ]
  },
  {
   "cell_type": "code",
   "execution_count": 37,
   "metadata": {},
   "outputs": [],
   "source": [
    "f = open('сказки/гримм.txt', 'r', encoding='utf-8')"
   ]
  },
  {
   "cell_type": "code",
   "execution_count": 38,
   "metadata": {},
   "outputs": [
    {
     "name": "stdout",
     "output_type": "stream",
     "text": [
      "идут по лесу братья гриммы \n",
      "и вырубают топором \n",
      "всех тех кто был уже написан \n",
      "перром \n"
     ]
    }
   ],
   "source": [
    "poem = f.read()\n",
    "print(poem)"
   ]
  },
  {
   "cell_type": "code",
   "execution_count": 39,
   "metadata": {},
   "outputs": [],
   "source": [
    "f.close()"
   ]
  },
  {
   "cell_type": "code",
   "execution_count": 40,
   "metadata": {},
   "outputs": [
    {
     "name": "stdout",
     "output_type": "stream",
     "text": [
      "/Users/annalevina/Desktop/alevina/alevina/poems\n"
     ]
    }
   ],
   "source": [
    "print(os.getcwd())"
   ]
  },
  {
   "cell_type": "code",
   "execution_count": 44,
   "metadata": {},
   "outputs": [],
   "source": [
    "import os\n",
    "os.rename('кладь.txt','Кладь.txt')"
   ]
  },
  {
   "cell_type": "code",
   "execution_count": 45,
   "metadata": {},
   "outputs": [
    {
     "name": "stdout",
     "output_type": "stream",
     "text": [
      "сказки\n",
      "шредингер.txt\n",
      "котики\n",
      ".DS_Store\n",
      "Untitled.ipynb\n",
      "боль.txt\n",
      "ворон.txt\n",
      ".ipynb_checkpoints\n",
      "Кладь.txt\n",
      "деды.txt\n",
      "ночь.txt\n"
     ]
    }
   ],
   "source": [
    "for file in os.listdir('.'): \n",
    "    print(file)"
   ]
  },
  {
   "cell_type": "code",
   "execution_count": 46,
   "metadata": {},
   "outputs": [],
   "source": [
    "os.remove('котики/пушок.txt')"
   ]
  },
  {
   "cell_type": "code",
   "execution_count": 47,
   "metadata": {},
   "outputs": [
    {
     "name": "stdout",
     "output_type": "stream",
     "text": [
      "/Users/annalevina/Desktop/alevina/alevina/poems/котики\n"
     ]
    }
   ],
   "source": [
    "cd /Users/annalevina/Desktop/alevina/alevina/poems/котики"
   ]
  },
  {
   "cell_type": "code",
   "execution_count": 48,
   "metadata": {},
   "outputs": [
    {
     "name": "stdout",
     "output_type": "stream",
     "text": [
      "кот.txt\n",
      "лео.txt\n"
     ]
    }
   ],
   "source": [
    "for file in os.listdir('.'): \n",
    "    print(file)"
   ]
  },
  {
   "cell_type": "code",
   "execution_count": 15,
   "metadata": {},
   "outputs": [
    {
     "name": "stdout",
     "output_type": "stream",
     "text": [
      "/Users/annalevina/Desktop/alevina/alevina/poems/шредингер.txt\n"
     ]
    },
    {
     "ename": "UnsupportedOperation",
     "evalue": "not writable",
     "output_type": "error",
     "traceback": [
      "\u001b[0;31m---------------------------------------------------------------------------\u001b[0m",
      "\u001b[0;31mUnsupportedOperation\u001b[0m                      Traceback (most recent call last)",
      "\u001b[0;32m<ipython-input-15-00aaf80cafd4>\u001b[0m in \u001b[0;36m<module>\u001b[0;34m()\u001b[0m\n\u001b[1;32m      9\u001b[0m                     \u001b[0;32mwith\u001b[0m \u001b[0mopen\u001b[0m\u001b[0;34m(\u001b[0m\u001b[0mfile\u001b[0m\u001b[0;34m,\u001b[0m\u001b[0;34m'r'\u001b[0m\u001b[0;34m,\u001b[0m\u001b[0mencoding\u001b[0m\u001b[0;34m=\u001b[0m\u001b[0;34m'utf-8'\u001b[0m\u001b[0;34m)\u001b[0m\u001b[0;32mas\u001b[0m \u001b[0mname\u001b[0m\u001b[0;34m:\u001b[0m\u001b[0;34m\u001b[0m\u001b[0m\n\u001b[1;32m     10\u001b[0m                         \u001b[0mname\u001b[0m\u001b[0;34m=\u001b[0m\u001b[0mname\u001b[0m\u001b[0;34m.\u001b[0m\u001b[0mread\u001b[0m\u001b[0;34m(\u001b[0m\u001b[0;34m)\u001b[0m\u001b[0;34m\u001b[0m\u001b[0m\n\u001b[0;32m---> 11\u001b[0;31m                         \u001b[0mf\u001b[0m\u001b[0;34m.\u001b[0m\u001b[0mwrite\u001b[0m\u001b[0;34m(\u001b[0m\u001b[0mname\u001b[0m\u001b[0;34m+\u001b[0m\u001b[0;34m'\\n'\u001b[0m\u001b[0;34m)\u001b[0m\u001b[0;34m\u001b[0m\u001b[0m\n\u001b[0m\u001b[1;32m     12\u001b[0m                 \u001b[0;32melif\u001b[0m \u001b[0mos\u001b[0m\u001b[0;34m.\u001b[0m\u001b[0mpath\u001b[0m\u001b[0;34m.\u001b[0m\u001b[0mjoin\u001b[0m\u001b[0;34m(\u001b[0m\u001b[0;34m'.\\котики\\%s'\u001b[0m\u001b[0;34m%\u001b[0m\u001b[0mfile\u001b[0m\u001b[0;34m)\u001b[0m\u001b[0;34m:\u001b[0m\u001b[0;34m\u001b[0m\u001b[0m\n\u001b[1;32m     13\u001b[0m                     \u001b[0;32mwith\u001b[0m \u001b[0mopen\u001b[0m \u001b[0;34m(\u001b[0m\u001b[0;34m'.\\котики\\%s'\u001b[0m\u001b[0;34m%\u001b[0m\u001b[0mfile\u001b[0m\u001b[0;34m,\u001b[0m\u001b[0;34m'r'\u001b[0m\u001b[0;34m,\u001b[0m\u001b[0mencoding\u001b[0m\u001b[0;34m=\u001b[0m\u001b[0;34m'utf-8'\u001b[0m\u001b[0;34m)\u001b[0m\u001b[0;32mas\u001b[0m \u001b[0mname\u001b[0m\u001b[0;34m:\u001b[0m\u001b[0;34m\u001b[0m\u001b[0m\n",
      "\u001b[0;31mUnsupportedOperation\u001b[0m: not writable"
     ]
    }
   ],
   "source": [
    "for root, dirs, files in os.walk('/Users/annalevina/Desktop/alevina/alevina/poems'):\n",
    "    for name in files:\n",
    "        print(fullname)\n",
    "        fullname = os.path.join(root, name)\n",
    "        with open(fullname,'r', encoding='utf-8') as f:\n",
    "            poem=f.read()\n",
    "            for file in files:\n",
    "                if os.path.join(file):\n",
    "                    with open(file,'r',encoding='utf-8')as name:\n",
    "                        name=name.read()\n",
    "                        f.write(name+'\\n')\n",
    "                elif os.path.join('.\\котики\\%s'%file):\n",
    "                    with open ('.\\котики\\%s'%file,'r',encoding='utf-8')as name:\n",
    "                        name=name.read()\n",
    "                        f.write(name+ '\\n')\n",
    "                elif os.path.join('.\\сказки\\%s'%file):\n",
    "                    with open ('.\\сказки\\%s'%file,'r',encoding='utf-8')as name:\n",
    "                        name=name.read()\n",
    "                        f.write(name+ '\\n')\n",
    "with open ('poems.txt','r',encoding='utf-8')as q:\n",
    "    print(q.read())"
   ]
  },
  {
   "cell_type": "code",
   "execution_count": null,
   "metadata": {},
   "outputs": [],
   "source": []
  }
 ],
 "metadata": {
  "kernelspec": {
   "display_name": "Python 3",
   "language": "python",
   "name": "python3"
  },
  "language_info": {
   "codemirror_mode": {
    "name": "ipython",
    "version": 3
   },
   "file_extension": ".py",
   "mimetype": "text/x-python",
   "name": "python",
   "nbconvert_exporter": "python",
   "pygments_lexer": "ipython3",
   "version": "3.7.0"
  }
 },
 "nbformat": 4,
 "nbformat_minor": 2
}
