{
 "cells": [
  {
   "cell_type": "markdown",
   "metadata": {},
   "source": [
    "# Домашнее задание по курсу Python for DH\n",
    "Привет! Меня зовут Лёвина Анна, я студентка 3 курса образовательной программы [Философия](https://www.hse.ru/ba/phil/).Я занимаюсь исследованиями в сфере логики. Мои научные интересы: Философия сознаня, Логика, Психология.\n",
    "\n",
    "![](http://www.topos.ru/sites/default/files/u30/mindcom2.jpg)\n",
    "\n",
    "**№**| **Описание** |**ссылка на работу**\n",
    "---|:---:|---:\n",
    "**1**|-|_код_\n",
    "**2**|-|_код_\n",
    "**3**|-|_код_\n",
    "\n"
   ]
  },
  {
   "cell_type": "markdown",
   "metadata": {},
   "source": []
  },
  {
   "cell_type": "code",
   "execution_count": null,
   "metadata": {},
   "outputs": [],
   "source": []
  }
 ],
 "metadata": {
  "kernelspec": {
   "display_name": "Python 3",
   "language": "python",
   "name": "python3"
  },
  "language_info": {
   "codemirror_mode": {
    "name": "ipython",
    "version": 3
   },
   "file_extension": ".py",
   "mimetype": "text/x-python",
   "name": "python",
   "nbconvert_exporter": "python",
   "pygments_lexer": "ipython3",
   "version": "3.7.0"
  }
 },
 "nbformat": 4,
 "nbformat_minor": 2
}
