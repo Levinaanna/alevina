{
 "cells": [
  {
   "cell_type": "markdown",
   "metadata": {},
   "source": [
    "# Задание №1\n",
    "\n",
    "Скачайте текст \"Литературных анекдотов\". Напишите функцию, которая будет читать файл, лемматизировать текст с помощью pymystem3 и записывать результат в новый файл. У функции должно бы два аргумента: путь к исходному файлу и путь к файлу с лемматизированным текстом. Вызов функции тоже должен быть прописан в решении."
   ]
  },
  {
   "cell_type": "code",
   "execution_count": 1,
   "metadata": {
    "scrolled": true
   },
   "outputs": [],
   "source": [
    "from pymystem3 import Mystem\n",
    "def functionhw3(infile, outfile): #пишу функцию. В первой части открываю текст, чтитаю его,разбиваю на эл-ты\n",
    "    text= open(infile, 'r', encoding='utf-8')\n",
    "    text1 = text.read()\n",
    "    words = text1.split() \n",
    "    text2=[words.strip('!.,?:\\(\\);«»\\\"-') for words in text1.split()] #обрезаю пунктуацию\n",
    "    text3 = ' '.join(text2)\n",
    "    m = Mystem() \n",
    "    lemmas = m.lemmatize(text3) #лемматизирую текст\n",
    "    text4=(''.join(lemmas)) #объединяю через пробел\n",
    "    f=open(outfile, 'w', encoding='utf-8') #записываю в новый файл\n",
    "    f.write(text4)\n",
    "    return text4\n",
    "    \n",
    "text4 = functionhw3(\"hw3-text.txt\", \"newtext.txt\") #вызываю функцию"
   ]
  },
  {
   "cell_type": "markdown",
   "metadata": {},
   "source": [
    "# Задание №2\n",
    "\n",
    "2.1 Очистите лемматизированный текст от стоп-слов и посчитайте ipm для оставшихся.\n",
    "\n",
    "2.2 Выведите 20 самых частотных по этому параметру слов."
   ]
  },
  {
   "cell_type": "code",
   "execution_count": 2,
   "metadata": {},
   "outputs": [],
   "source": [
    "#2.1\n",
    "f= open('rus_stopwords.txt', 'r', encoding='utf-8') #открываю файл со стопловами \n",
    "stopwords=f.read().split('\\n')\n",
    "textwithoutstopwords=[] \n",
    "for word in text4.split(): #пишу цикл для того, чтобы избвиться от стопслов\n",
    "    if word not in stopwords:\n",
    "        textwithoutstopwords.append(word)"
   ]
  },
  {
   "cell_type": "code",
   "execution_count": 3,
   "metadata": {},
   "outputs": [
    {
     "name": "stdout",
     "output_type": "stream",
     "text": [
      "17346\n"
     ]
    }
   ],
   "source": [
    "count=len(text4) #считаю общее количество слов в тексте\n",
    "print(count)"
   ]
  },
  {
   "cell_type": "code",
   "execution_count": 4,
   "metadata": {
    "scrolled": true
   },
   "outputs": [],
   "source": [
    "counts = {}  #сортирую список слов по частотности\n",
    "text5=textwithoutstopwords\n",
    "for word in text5:\n",
    "    if word in counts:\n",
    "        counts[word] += 1\n",
    "    else:\n",
    "        counts[word] = 1 #получаю несортированный словарь"
   ]
  },
  {
   "cell_type": "code",
   "execution_count": 5,
   "metadata": {},
   "outputs": [],
   "source": [
    "sorted_counts = sorted(counts.items(), key=lambda x: x[1], reverse=True) #сортирую в порядке убывания"
   ]
  },
  {
   "cell_type": "code",
   "execution_count": 8,
   "metadata": {},
   "outputs": [],
   "source": [
    "words={} #создаю словарь\n",
    "for value in sorted_counts: #пишу цикл, далее прописываю формулу и распечатываю получившийся ipm\n",
    "    words[value[0]] = value[1]/count*1000000"
   ]
  },
  {
   "cell_type": "code",
   "execution_count": 9,
   "metadata": {},
   "outputs": [
    {
     "name": "stdout",
     "output_type": "stream",
     "text": [
      "[('пушкин', 3401.3605442176868), ('толстой', 1902.4558976132828), ('гоголь', 1787.1555401821745), ('однажды', 1671.8551827510664), ('лев', 1441.2544678888503), ('любить', 1153.0035743110805), ('достоевский', 1153.0035743110805), ('тургенев', 922.4028594488643), ('ребенок', 864.7526807333103), ('царствие', 864.7526807333103), ('небесный', 864.7526807333103), ('окно', 691.8021445866483), ('тверской', 691.8021445866483), ('бульвар', 691.8021445866483), ('приходить', 691.8021445866483), ('лермонтов', 691.8021445866483), ('федор', 634.1519658710941), ('михайлович', 634.1519658710941), ('идти', 576.5017871555402), ('герцен', 576.5017871555402)]\n"
     ]
    }
   ],
   "source": [
    "#2.2\n",
    "from collections import Counter # с помощью counter выделяю 20 самых частотных по ipm слов.\n",
    "final = Counter(words)\n",
    "print(final.most_common(20))"
   ]
  }
 ],
 "metadata": {
  "kernelspec": {
   "display_name": "Python 3",
   "language": "python",
   "name": "python3"
  },
  "language_info": {
   "codemirror_mode": {
    "name": "ipython",
    "version": 3
   },
   "file_extension": ".py",
   "mimetype": "text/x-python",
   "name": "python",
   "nbconvert_exporter": "python",
   "pygments_lexer": "ipython3",
   "version": "3.7.0"
  }
 },
 "nbformat": 4,
 "nbformat_minor": 2
}
