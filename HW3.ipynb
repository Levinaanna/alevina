{
 "cells": [
  {
   "cell_type": "markdown",
   "metadata": {},
   "source": [
    "# Задание №1\n",
    "\n",
    "Скачайте текст \"Литературных анекдотов\". Напишите функцию, которая будет читать файл, лемматизировать текст с помощью pymystem3 и записывать результат в новый файл. У функции должно бы два аргумента: путь к исходному файлу и путь к файлу с лемматизированным текстом. Вызов функции тоже должен быть прописан в решении."
   ]
  },
  {
   "cell_type": "code",
   "execution_count": 16,
   "metadata": {
    "scrolled": true
   },
   "outputs": [],
   "source": [
    "from pymystem3 import Mystem\n",
    "def functionhw3(infile, outfile): #пишу функцию. В первой части открываю текст, чтитаю его,разбиваю на эл-ты\n",
    "    text= open(infile, 'r', encoding='utf-8')\n",
    "    text1 = text.read()\n",
    "    words = text1.split() \n",
    "    text2=[words.strip('!.,?:\\(\\);«»\\\"-') for words in text1.split()] #обрезаю пунктуацию\n",
    "    text3 = ' '.join(text2)\n",
    "    m = Mystem() \n",
    "    lemmas = m.lemmatize(text3) #лемматизирую текст\n",
    "    text4=(' '.join(lemmas)) #объединяю через пробел\n",
    "    f=open(outfile, 'w', encoding='utf-8') #записываю в новый файл\n",
    "    f.write(text4)\n",
    "    return text4\n",
    "    \n",
    "text4 = functionhw3(\"hw3-text.txt\", \"newtext.txt\") #вызываю функцию\n",
    "text5= text4.split()"
   ]
  },
  {
   "cell_type": "markdown",
   "metadata": {},
   "source": [
    "# Задание №2\n",
    "\n",
    "2.1 Очистите лемматизированный текст от стоп-слов и посчитайте ipm для оставшихся.\n",
    "\n",
    "2.2 Выведите 20 самых частотных по этому параметру слов."
   ]
  },
  {
   "cell_type": "code",
   "execution_count": 17,
   "metadata": {},
   "outputs": [],
   "source": [
    "#2.1\n",
    "f= open('rus_stopwords.txt', 'r', encoding='utf-8') #открываю файл со стопловами \n",
    "stopwords=f.read().split('\\n')\n",
    "textwithoutstopwords=[] \n",
    "for word in text4.split(): #пишу цикл для того, чтобы избвиться от стопслов\n",
    "    if word not in stopwords:\n",
    "        textwithoutstopwords.append(word)"
   ]
  },
  {
   "cell_type": "code",
   "execution_count": 18,
   "metadata": {},
   "outputs": [
    {
     "name": "stdout",
     "output_type": "stream",
     "text": [
      "2820\n"
     ]
    }
   ],
   "source": [
    "count=len(text5) #считаю общее количество слов в тексте\n",
    "print(count)"
   ]
  },
  {
   "cell_type": "code",
   "execution_count": 19,
   "metadata": {
    "scrolled": true
   },
   "outputs": [],
   "source": [
    "counts = {}  #сортирую список слов по частотности\n",
    "text5=textwithoutstopwords\n",
    "for word in text5:\n",
    "    if word in counts:\n",
    "        counts[word] += 1\n",
    "    else:\n",
    "        counts[word] = 1 #получаю несортированный словарь"
   ]
  },
  {
   "cell_type": "code",
   "execution_count": 20,
   "metadata": {},
   "outputs": [],
   "source": [
    "sorted_counts = sorted(counts.items(), key=lambda x: x[1], reverse=True) #сортирую в порядке убывания"
   ]
  },
  {
   "cell_type": "code",
   "execution_count": 21,
   "metadata": {},
   "outputs": [],
   "source": [
    "words={} #создаю словарь\n",
    "for value in sorted_counts: #пишу цикл, далее прописываю формулу и распечатываю получившийся ipm\n",
    "    words[value[0]] = value[1]/count*1000000"
   ]
  },
  {
   "cell_type": "code",
   "execution_count": 22,
   "metadata": {},
   "outputs": [
    {
     "name": "stdout",
     "output_type": "stream",
     "text": [
      "[('пушкин', 20921.985815602835), ('толстой', 11702.127659574468), ('гоголь', 10992.90780141844), ('однажды', 10283.68794326241), ('-', 9929.078014184397), ('лев', 8865.248226950354), ('любить', 7092.198581560284), ('достоевский', 7092.198581560284), ('тургенев', 5673.758865248227), ('ребенок', 5319.148936170212), ('царствие', 5319.148936170212), ('небесный', 5319.148936170212), ('окно', 4255.319148936171), ('тверской', 4255.319148936171), ('бульвар', 4255.319148936171), ('приходить', 4255.319148936171), ('лермонтов', 4255.319148936171), ('федор', 3900.709219858156), ('михайлович', 3900.709219858156), ('идти', 3546.099290780142)]\n"
     ]
    }
   ],
   "source": [
    "#2.2\n",
    "from collections import Counter # с помощью counter выделяю 20 самых частотных по ipm слов.\n",
    "final = Counter(words)\n",
    "print(final.most_common(20))"
   ]
  }
 ],
 "metadata": {
  "kernelspec": {
   "display_name": "Python 3",
   "language": "python",
   "name": "python3"
  },
  "language_info": {
   "codemirror_mode": {
    "name": "ipython",
    "version": 3
   },
   "file_extension": ".py",
   "mimetype": "text/x-python",
   "name": "python",
   "nbconvert_exporter": "python",
   "pygments_lexer": "ipython3",
   "version": "3.7.0"
  }
 },
 "nbformat": 4,
 "nbformat_minor": 2
}
